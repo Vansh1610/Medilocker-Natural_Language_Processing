{
  "nbformat": 4,
  "nbformat_minor": 0,
  "metadata": {
    "colab": {
      "provenance": [],
      "collapsed_sections": [
        "GGFtrfinEVNW"
      ]
    },
    "kernelspec": {
      "name": "python3",
      "display_name": "Python 3"
    },
    "language_info": {
      "name": "python"
    }
  },
  "cells": [
    {
      "cell_type": "code",
      "metadata": {
        "colab": {
          "base_uri": "https://localhost:8080/"
        },
        "id": "qwup9uy43Aq_",
        "outputId": "c68bcb95-20ad-49ef-f8bc-b8b0762ac831"
      },
      "source": [
        "import numpy as np\n",
        "import pandas as pd\n",
        "import nltk\n",
        "nltk.download('punkt') # one time execution\n",
        "import re"
      ],
      "execution_count": null,
      "outputs": [
        {
          "output_type": "stream",
          "name": "stdout",
          "text": [
            "[nltk_data] Downloading package punkt to /root/nltk_data...\n",
            "[nltk_data]   Unzipping tokenizers/punkt.zip.\n"
          ]
        }
      ]
    },
    {
      "cell_type": "code",
      "metadata": {
        "id": "hMluaRLg4R7l"
      },
      "source": [
        "text=\"\"\"Good evening doctor.Good evening. You look pale and your voice is out of tune.Yes doctor. I’m running a temperature and have a sore throat.Let me see.You’ve moderate fever.This thermometer is very different from the one you used the last time. (Unlike the earlier one which was placed below the tongue, this one snapped around one of the fingers.Yes, this is a new introduction by medical equipment companies. It’s much more convenient, as it doesn’t require cleaning after every use.That’s awesome.Yes it is.Not too high – 99.8.Your blood pressure is fine.It looks bit scruffy. Not good.Yes, it has been quite bad.Do you get sweating and shivering?Not sweating, but I feel somewhat cold when I sit under a fan.OK. You’ve few symptoms of malaria. I would suggest you undergo blood test. Nothing to worry about. In most cases, the test come out to be negative. It’s just precautionary, as there have been spurt in malaria cases in the last month or so.I’m prescribing three medicines and a syrup. The number of dots in front of each tells you how many times in the day you’ve to take them. For example, the two dots here mean you’ve to take the medicine twice in the day, once in the morning and once after dinner.Do you’ve any other questions? No, doctor. Thank you..\n",
        "\"\"\""
      ],
      "execution_count": null,
      "outputs": []
    },
    {
      "cell_type": "code",
      "metadata": {
        "id": "gz3OETz3-uH3"
      },
      "source": [
        "from nltk.tokenize import sent_tokenize"
      ],
      "execution_count": null,
      "outputs": []
    },
    {
      "cell_type": "code",
      "metadata": {
        "id": "exwKZbnT-wIS",
        "colab": {
          "base_uri": "https://localhost:8080/"
        },
        "outputId": "d4dd41d3-8fb0-4c51-b76b-3c790454b5d2"
      },
      "source": [
        "sentences = []\n",
        "sentences.append(sent_tokenize(text))\n",
        "sentences"
      ],
      "execution_count": null,
      "outputs": [
        {
          "output_type": "execute_result",
          "data": {
            "text/plain": [
              "[['Hello doctor i want to get a pregnant .i got period March 14th.',\n",
              "  'After 10 days my egg is not rupturing.',\n",
              "  'so doctor gave me injection to be rupture.',\n",
              "  'After 31st i went to clinic .',\n",
              "  'An egg (cyst) ruptured.',\n",
              "  'From that day i have taken duphaston for 10 days 2 times which is given by doctor.',\n",
              "  'she told me that after 10 days stop duphaston and wait for one week then if you r not get periods come and see me .',\n",
              "  'April 9th my 10th day over.',\n",
              "  'from that day i stoped to take dupalaston.',\n",
              "  'But today April 13th.',\n",
              "  'today i felt that i got periods.',\n",
              "  'But it is not like that.',\n",
              "  'only one drop blood was there.',\n",
              "  'after that nothing was there.',\n",
              "  'i dont know what happened.',\n",
              "  'i m always checking i got period i got period.',\n",
              "  'plz advice me.',\n",
              "  'what should i do.',\n",
              "  'doctor told me to come 14th.',\n",
              "  'i will pray to god for good news.',\n",
              "  'i got period March 14. my egg rupured on March 31th.',\n",
              "  'tomorrow 14th.',\n",
              "  'we can find out that am i pregnant.',\n",
              "  'plz reply me.........Hello.',\n",
              "  'sometimes this does happen that when u expect periods u see just drops esp.',\n",
              "  'when u are taking menstuation regulating drugs its because ur endometrium has not shed properly.u may need withdrawal bleeding with other drugs before u start for this menstrual cycle infertility treatment.']]"
            ]
          },
          "metadata": {},
          "execution_count": 23
        }
      ]
    },
    {
      "cell_type": "code",
      "metadata": {
        "colab": {
          "base_uri": "https://localhost:8080/"
        },
        "id": "59AcQZQSoDT6",
        "outputId": "8bbb3a28-1039-4187-a430-e152bb1b23c9"
      },
      "source": [
        "sentences = [y for x in sentences for y in x] # flatten list\n",
        "sentences"
      ],
      "execution_count": null,
      "outputs": [
        {
          "output_type": "execute_result",
          "data": {
            "text/plain": [
              "['Hello doctor i want to get a pregnant .i got period March 14th.',\n",
              " 'After 10 days my egg is not rupturing.',\n",
              " 'so doctor gave me injection to be rupture.',\n",
              " 'After 31st i went to clinic .',\n",
              " 'An egg (cyst) ruptured.',\n",
              " 'From that day i have taken duphaston for 10 days 2 times which is given by doctor.',\n",
              " 'she told me that after 10 days stop duphaston and wait for one week then if you r not get periods come and see me .',\n",
              " 'April 9th my 10th day over.',\n",
              " 'from that day i stoped to take dupalaston.',\n",
              " 'But today April 13th.',\n",
              " 'today i felt that i got periods.',\n",
              " 'But it is not like that.',\n",
              " 'only one drop blood was there.',\n",
              " 'after that nothing was there.',\n",
              " 'i dont know what happened.',\n",
              " 'i m always checking i got period i got period.',\n",
              " 'plz advice me.',\n",
              " 'what should i do.',\n",
              " 'doctor told me to come 14th.',\n",
              " 'i will pray to god for good news.',\n",
              " 'i got period March 14. my egg rupured on March 31th.',\n",
              " 'tomorrow 14th.',\n",
              " 'we can find out that am i pregnant.',\n",
              " 'plz reply me.........Hello.',\n",
              " 'sometimes this does happen that when u expect periods u see just drops esp.',\n",
              " 'when u are taking menstuation regulating drugs its because ur endometrium has not shed properly.u may need withdrawal bleeding with other drugs before u start for this menstrual cycle infertility treatment.']"
            ]
          },
          "metadata": {},
          "execution_count": 24
        }
      ]
    },
    {
      "cell_type": "code",
      "metadata": {
        "id": "o7wxWUds-zgc"
      },
      "source": [
        "sent_order={}\n",
        "count=1\n",
        "for i in sentences:\n",
        "  sent_order[i]=count\n",
        "  count=count+1"
      ],
      "execution_count": null,
      "outputs": []
    },
    {
      "cell_type": "code",
      "metadata": {
        "colab": {
          "base_uri": "https://localhost:8080/"
        },
        "id": "T57tN2QE_crs",
        "outputId": "5f023bf8-e7ca-44cc-ebfc-4aed50a6ecc4"
      },
      "source": [
        "sent_order"
      ],
      "execution_count": null,
      "outputs": [
        {
          "output_type": "execute_result",
          "data": {
            "text/plain": [
              "{'After 10 days my egg is not rupturing.': 2,\n",
              " 'After 31st i went to clinic .': 4,\n",
              " 'An egg (cyst) ruptured.': 5,\n",
              " 'April 9th my 10th day over.': 8,\n",
              " 'But it is not like that.': 12,\n",
              " 'But today April 13th.': 10,\n",
              " 'From that day i have taken duphaston for 10 days 2 times which is given by doctor.': 6,\n",
              " 'Hello doctor i want to get a pregnant .i got period March 14th.': 1,\n",
              " 'after that nothing was there.': 14,\n",
              " 'doctor told me to come 14th.': 19,\n",
              " 'from that day i stoped to take dupalaston.': 9,\n",
              " 'i dont know what happened.': 15,\n",
              " 'i got period March 14. my egg rupured on March 31th.': 21,\n",
              " 'i m always checking i got period i got period.': 16,\n",
              " 'i will pray to god for good news.': 20,\n",
              " 'only one drop blood was there.': 13,\n",
              " 'plz advice me.': 17,\n",
              " 'plz reply me.........Hello.': 24,\n",
              " 'she told me that after 10 days stop duphaston and wait for one week then if you r not get periods come and see me .': 7,\n",
              " 'so doctor gave me injection to be rupture.': 3,\n",
              " 'sometimes this does happen that when u expect periods u see just drops esp.': 25,\n",
              " 'today i felt that i got periods.': 11,\n",
              " 'tomorrow 14th.': 22,\n",
              " 'we can find out that am i pregnant.': 23,\n",
              " 'what should i do.': 18,\n",
              " 'when u are taking menstuation regulating drugs its because ur endometrium has not shed properly.u may need withdrawal bleeding with other drugs before u start for this menstrual cycle infertility treatment.': 26}"
            ]
          },
          "metadata": {
            "tags": []
          },
          "execution_count": 8
        }
      ]
    },
    {
      "cell_type": "code",
      "metadata": {
        "colab": {
          "base_uri": "https://localhost:8080/"
        },
        "id": "hYKZafsS-6AR",
        "outputId": "02b28cde-eff7-400c-d5ae-4c82cb24a447"
      },
      "source": [
        "sentences"
      ],
      "execution_count": null,
      "outputs": [
        {
          "output_type": "execute_result",
          "data": {
            "text/plain": [
              "['Hello doctor i want to get a pregnant .i got period March 14th.',\n",
              " 'After 10 days my egg is not rupturing.',\n",
              " 'so doctor gave me injection to be rupture.',\n",
              " 'After 31st i went to clinic .',\n",
              " 'An egg (cyst) ruptured.',\n",
              " 'From that day i have taken duphaston for 10 days 2 times which is given by doctor.',\n",
              " 'she told me that after 10 days stop duphaston and wait for one week then if you r not get periods come and see me .',\n",
              " 'April 9th my 10th day over.',\n",
              " 'from that day i stoped to take dupalaston.',\n",
              " 'But today April 13th.',\n",
              " 'today i felt that i got periods.',\n",
              " 'But it is not like that.',\n",
              " 'only one drop blood was there.',\n",
              " 'after that nothing was there.',\n",
              " 'i dont know what happened.',\n",
              " 'i m always checking i got period i got period.',\n",
              " 'plz advice me.',\n",
              " 'what should i do.',\n",
              " 'doctor told me to come 14th.',\n",
              " 'i will pray to god for good news.',\n",
              " 'i got period March 14. my egg rupured on March 31th.',\n",
              " 'tomorrow 14th.',\n",
              " 'we can find out that am i pregnant.',\n",
              " 'plz reply me.........Hello.',\n",
              " 'sometimes this does happen that when u expect periods u see just drops esp.',\n",
              " 'when u are taking menstuation regulating drugs its because ur endometrium has not shed properly.u may need withdrawal bleeding with other drugs before u start for this menstrual cycle infertility treatment.']"
            ]
          },
          "metadata": {
            "tags": []
          },
          "execution_count": 9
        }
      ]
    },
    {
      "cell_type": "code",
      "metadata": {
        "colab": {
          "base_uri": "https://localhost:8080/"
        },
        "id": "9O3m8hyD_K6x",
        "outputId": "81b5afe1-a0d4-4f26-8a97-31651e0836ca"
      },
      "source": [
        "!wget http://nlp.stanford.edu/data/glove.6B.zip\n",
        "!unzip glove*.zip"
      ],
      "execution_count": null,
      "outputs": [
        {
          "output_type": "stream",
          "text": [
            "--2021-08-18 09:39:29--  http://nlp.stanford.edu/data/glove.6B.zip\n",
            "Resolving nlp.stanford.edu (nlp.stanford.edu)... 171.64.67.140\n",
            "Connecting to nlp.stanford.edu (nlp.stanford.edu)|171.64.67.140|:80... connected.\n",
            "HTTP request sent, awaiting response... 302 Found\n",
            "Location: https://nlp.stanford.edu/data/glove.6B.zip [following]\n",
            "--2021-08-18 09:39:30--  https://nlp.stanford.edu/data/glove.6B.zip\n",
            "Connecting to nlp.stanford.edu (nlp.stanford.edu)|171.64.67.140|:443... connected.\n",
            "HTTP request sent, awaiting response... 301 Moved Permanently\n",
            "Location: http://downloads.cs.stanford.edu/nlp/data/glove.6B.zip [following]\n",
            "--2021-08-18 09:39:30--  http://downloads.cs.stanford.edu/nlp/data/glove.6B.zip\n",
            "Resolving downloads.cs.stanford.edu (downloads.cs.stanford.edu)... 171.64.64.22\n",
            "Connecting to downloads.cs.stanford.edu (downloads.cs.stanford.edu)|171.64.64.22|:80... connected.\n",
            "HTTP request sent, awaiting response... 200 OK\n",
            "Length: 862182613 (822M) [application/zip]\n",
            "Saving to: ‘glove.6B.zip’\n",
            "\n",
            "glove.6B.zip        100%[===================>] 822.24M  5.02MB/s    in 2m 40s  \n",
            "\n",
            "2021-08-18 09:42:11 (5.13 MB/s) - ‘glove.6B.zip’ saved [862182613/862182613]\n",
            "\n",
            "Archive:  glove.6B.zip\n",
            "  inflating: glove.6B.50d.txt        \n",
            "  inflating: glove.6B.100d.txt       \n",
            "  inflating: glove.6B.200d.txt       \n",
            "  inflating: glove.6B.300d.txt       \n"
          ],
          "name": "stdout"
        }
      ]
    },
    {
      "cell_type": "code",
      "metadata": {
        "id": "ZYwLw4Zs_TAM"
      },
      "source": [
        "# Extract word vectors\n",
        "word_embeddings = {}\n",
        "f = open('glove.6B.100d.txt', encoding='utf-8')\n",
        "for line in f:\n",
        "    values = line.split()\n",
        "    word = values[0]\n",
        "    coefs = np.asarray(values[1:], dtype='float32')\n",
        "    word_embeddings[word] = coefs\n",
        "f.close()"
      ],
      "execution_count": null,
      "outputs": []
    },
    {
      "cell_type": "code",
      "metadata": {
        "id": "0gLOWUTbrIfb"
      },
      "source": [],
      "execution_count": null,
      "outputs": []
    },
    {
      "cell_type": "code",
      "metadata": {
        "id": "Rx_0oVf6Avrf",
        "colab": {
          "base_uri": "https://localhost:8080/"
        },
        "outputId": "a8f4c243-3c4f-47d6-9a13-30c2db1b170a"
      },
      "source": [
        "word_embeddings['feel']"
      ],
      "execution_count": null,
      "outputs": [
        {
          "output_type": "execute_result",
          "data": {
            "text/plain": [
              "array([-4.2895e-02,  7.0671e-01,  7.5316e-01, -5.9963e-01, -8.0169e-01,\n",
              "        6.0094e-01, -6.7419e-01,  2.3592e-01,  2.4005e-01, -3.6372e-01,\n",
              "       -2.2720e-01,  3.6026e-02,  4.6591e-01, -3.6233e-01, -3.1325e-01,\n",
              "       -3.6757e-01, -5.7255e-01,  3.0661e-01, -4.8606e-01,  6.3214e-01,\n",
              "        2.8931e-01,  6.0741e-01, -8.6788e-03, -6.8206e-01, -1.8410e-01,\n",
              "        2.4847e-01,  9.5902e-02, -6.9108e-01,  9.0869e-01, -3.9224e-01,\n",
              "        1.4345e-01,  7.8112e-01, -1.1601e-01,  6.0312e-02,  4.6300e-01,\n",
              "       -4.4191e-02,  1.4284e-01,  6.2234e-01,  2.3943e-01, -4.6815e-01,\n",
              "       -2.2553e-01, -3.1920e-01,  3.1397e-01, -4.2308e-01, -4.0827e-01,\n",
              "       -2.4659e-01,  5.1572e-01,  3.5494e-01,  3.1545e-01, -1.4043e+00,\n",
              "       -1.6486e-01, -5.5508e-02,  1.0260e-01,  6.1515e-01,  1.2691e-01,\n",
              "       -2.2379e+00,  6.9510e-01,  1.2609e-01,  1.0901e+00,  2.5953e-01,\n",
              "        2.2974e-01,  1.1125e+00, -1.0156e+00, -4.1881e-01,  3.8853e-01,\n",
              "       -4.8856e-02,  9.1775e-01,  1.9732e-03, -6.9162e-01, -5.8945e-01,\n",
              "        3.5722e-01, -5.2180e-01, -1.2020e-01, -1.3826e-01,  2.1568e-01,\n",
              "        5.7880e-01,  3.7060e-02, -5.7264e-02, -2.7097e-02, -2.5526e-01,\n",
              "       -3.9219e-01,  3.7948e-02, -8.5041e-01,  4.6354e-01, -1.6462e+00,\n",
              "       -2.7176e-01, -1.8171e-01, -3.8026e-02, -9.7623e-01, -5.1404e-01,\n",
              "        6.9445e-02, -4.6013e-01,  2.5073e-01, -5.0782e-01, -1.5645e-01,\n",
              "        1.2076e-01, -5.5868e-02, -5.4230e-01,  1.1809e-01,  3.9974e-01],\n",
              "      dtype=float32)"
            ]
          },
          "metadata": {
            "tags": []
          },
          "execution_count": 17
        }
      ]
    },
    {
      "cell_type": "code",
      "metadata": {
        "id": "Hgu7G3iJAzI1"
      },
      "source": [
        "# remove punctuations, numbers and special characters\n",
        "clean_sentences = pd.Series(sentences).str.replace(\"[^a-zA-Z-0-9]\", \" \")\n",
        "\n",
        "# make alphabets lowercase\n",
        "clean_sentences = [s.lower() for s in clean_sentences]"
      ],
      "execution_count": null,
      "outputs": []
    },
    {
      "cell_type": "code",
      "metadata": {
        "id": "U0kjSVhUA2fQ",
        "colab": {
          "base_uri": "https://localhost:8080/"
        },
        "outputId": "56f2a907-1744-4388-a6b2-3e9d40954f72"
      },
      "source": [
        "nltk.download('stopwords')"
      ],
      "execution_count": null,
      "outputs": [
        {
          "output_type": "stream",
          "text": [
            "[nltk_data] Downloading package stopwords to /root/nltk_data...\n",
            "[nltk_data]   Package stopwords is already up-to-date!\n"
          ],
          "name": "stdout"
        },
        {
          "output_type": "execute_result",
          "data": {
            "text/plain": [
              "True"
            ]
          },
          "metadata": {
            "tags": []
          },
          "execution_count": 15
        }
      ]
    },
    {
      "cell_type": "code",
      "metadata": {
        "id": "GKfaF6SjA6Hr"
      },
      "source": [
        "from nltk.corpus import stopwords\n",
        "stop_words = stopwords.words('english')"
      ],
      "execution_count": null,
      "outputs": []
    },
    {
      "cell_type": "code",
      "metadata": {
        "id": "1Xegw1a47p1h"
      },
      "source": [
        "more_stop=['hello','good','evening','morning','night','afternoon','r','c','b',\"can't\",'can','could','should','would','doctor','shall','will','maam',\"ma'am\",\"sir\",\"hi\",\"hey\",\"\"]\n",
        "stop_words.extend(more_stop)"
      ],
      "execution_count": null,
      "outputs": []
    },
    {
      "cell_type": "code",
      "metadata": {
        "id": "V4xqlLXe7p56"
      },
      "source": [
        "more_stop=['hello','good','evening','morning','night','afternoon','r','c','b',\"can't\",'can','could','should','would','doctor','shall','will','maam',\"ma'am\",\"sir\",\"hi\",\"hey\",\"\"]"
      ],
      "execution_count": null,
      "outputs": []
    },
    {
      "cell_type": "code",
      "metadata": {
        "id": "jKfPFNuJA8xk"
      },
      "source": [
        "# function to remove stopwords\n",
        "def remove_stopwords(sen):\n",
        "    sen_new = \" \".join([i for i in sen if i not in stop_words])\n",
        "    return sen_new"
      ],
      "execution_count": null,
      "outputs": []
    },
    {
      "cell_type": "code",
      "metadata": {
        "id": "BSJAM1rBA_EA"
      },
      "source": [
        "clean_sentences = [remove_stopwords(r.split()) for r in clean_sentences]"
      ],
      "execution_count": null,
      "outputs": []
    },
    {
      "cell_type": "code",
      "metadata": {
        "colab": {
          "base_uri": "https://localhost:8080/"
        },
        "id": "ifL72HFUBBKR",
        "outputId": "bdaa6086-5ddf-4d50-e3bd-89adede745dc"
      },
      "source": [
        "len(clean_sentences)"
      ],
      "execution_count": null,
      "outputs": [
        {
          "output_type": "execute_result",
          "data": {
            "text/plain": [
              "26"
            ]
          },
          "metadata": {
            "tags": []
          },
          "execution_count": 20
        }
      ]
    },
    {
      "cell_type": "code",
      "metadata": {
        "id": "cGJ9-I_mBCB6"
      },
      "source": [
        "word_embeddings = {}\n",
        "f = open('glove.6B.100d.txt', encoding='utf-8')\n",
        "for line in f:\n",
        "    values = line.split()\n",
        "    word = values[0]\n",
        "    coefs = np.asarray(values[1:], dtype='float32')\n",
        "    word_embeddings[word] = coefs\n",
        "f.close()"
      ],
      "execution_count": null,
      "outputs": []
    },
    {
      "cell_type": "code",
      "metadata": {
        "id": "EBCLyFeRBj_I"
      },
      "source": [
        "sentence_vectors = []\n",
        "for i in clean_sentences:\n",
        "  if len(i) != 0:\n",
        "    v = sum([word_embeddings.get(w, np.zeros((100,))) for w in i.split()])/(len(i.split())+0.001)\n",
        "  else:\n",
        "    v = np.zeros((100,))\n",
        "  sentence_vectors.append(v)"
      ],
      "execution_count": null,
      "outputs": []
    },
    {
      "cell_type": "code",
      "metadata": {
        "id": "pJduIdZRBnxN"
      },
      "source": [
        "# similarity matrix\n",
        "sim_mat = np.zeros([len(sentences), len(sentences)])"
      ],
      "execution_count": null,
      "outputs": []
    },
    {
      "cell_type": "code",
      "metadata": {
        "id": "vHg1pi2ZBp2L"
      },
      "source": [
        "from sklearn.metrics.pairwise import cosine_similarity"
      ],
      "execution_count": null,
      "outputs": []
    },
    {
      "cell_type": "code",
      "metadata": {
        "id": "434x5M4tBrSm"
      },
      "source": [
        "for i in range(len(sentences)):\n",
        "  for j in range(len(sentences)):\n",
        "    if i != j:\n",
        "      sim_mat[i][j] = cosine_similarity(sentence_vectors[i].reshape(1,100), sentence_vectors[j].reshape(1,100))[0,0]"
      ],
      "execution_count": null,
      "outputs": []
    },
    {
      "cell_type": "code",
      "metadata": {
        "id": "sDAeRcwlBtdF"
      },
      "source": [
        "import networkx as nx\n",
        "\n",
        "nx_graph = nx.from_numpy_array(sim_mat)\n",
        "scores = nx.pagerank(nx_graph)"
      ],
      "execution_count": null,
      "outputs": []
    },
    {
      "cell_type": "code",
      "metadata": {
        "id": "zMME1zz1Bvz3"
      },
      "source": [
        "ranked_sentences = sorted(((scores[i],s) for i,s in enumerate(sentences)), reverse=True)"
      ],
      "execution_count": null,
      "outputs": []
    },
    {
      "cell_type": "code",
      "metadata": {
        "id": "WgLjhwz5Bxf2"
      },
      "source": [
        "# Extract top 10 sentences as the summary\n",
        "summary=\"\"\n",
        "final_sent_order={}\n",
        "for i in range(10):\n",
        "  final_sent_order[ranked_sentences[i][1]]=sent_order[ranked_sentences[i][1]]"
      ],
      "execution_count": null,
      "outputs": []
    },
    {
      "cell_type": "code",
      "metadata": {
        "colab": {
          "base_uri": "https://localhost:8080/"
        },
        "id": "7gfU-atxAXrl",
        "outputId": "7ae4daff-73c2-4749-8867-2542831ff734"
      },
      "source": [],
      "execution_count": null,
      "outputs": [
        {
          "output_type": "execute_result",
          "data": {
            "text/plain": [
              "{'From that day i have taken duphaston for 10 days 2 times which is given by doctor.': 6,\n",
              " 'Hello doctor i want to get a pregnant .i got period March 14th.': 1,\n",
              " 'doctor told me to come 14th.': 19,\n",
              " 'from that day i stoped to take dupalaston.': 9,\n",
              " 'i got period March 14. my egg rupured on March 31th.': 21,\n",
              " 'i m always checking i got period i got period.': 16,\n",
              " 'only one drop blood was there.': 13,\n",
              " 'she told me that after 10 days stop duphaston and wait for one week then if you r not get periods come and see me .': 7,\n",
              " 'sometimes this does happen that when u expect periods u see just drops esp.': 25,\n",
              " 'today i felt that i got periods.': 11}"
            ]
          },
          "metadata": {
            "tags": []
          },
          "execution_count": 41
        }
      ]
    },
    {
      "cell_type": "code",
      "metadata": {
        "id": "WcNU6BpDCzub"
      },
      "source": [
        "sort_orders = sorted(final_sent_order.items(), key=lambda x: x[1], reverse=False)"
      ],
      "execution_count": null,
      "outputs": []
    },
    {
      "cell_type": "code",
      "metadata": {
        "colab": {
          "base_uri": "https://localhost:8080/"
        },
        "id": "NqOVn8K1BXA-",
        "outputId": "787946c6-9c25-4cee-d4b4-87121e4cd615"
      },
      "source": [
        "sort_orders[0]"
      ],
      "execution_count": null,
      "outputs": [
        {
          "output_type": "execute_result",
          "data": {
            "text/plain": [
              "[('Hello doctor i want to get a pregnant .i got period March 14th.', 1),\n",
              " ('From that day i have taken duphaston for 10 days 2 times which is given by doctor.',\n",
              "  6),\n",
              " ('she told me that after 10 days stop duphaston and wait for one week then if you r not get periods come and see me .',\n",
              "  7),\n",
              " ('from that day i stoped to take dupalaston.', 9),\n",
              " ('today i felt that i got periods.', 11),\n",
              " ('only one drop blood was there.', 13),\n",
              " ('i m always checking i got period i got period.', 16),\n",
              " ('doctor told me to come 14th.', 19),\n",
              " ('i got period March 14. my egg rupured on March 31th.', 21),\n",
              " ('sometimes this does happen that when u expect periods u see just drops esp.',\n",
              "  25)]"
            ]
          },
          "metadata": {
            "tags": []
          },
          "execution_count": 43
        }
      ]
    },
    {
      "cell_type": "code",
      "metadata": {
        "id": "RNTEzjpXBXIC"
      },
      "source": [
        "for i in range(0,len(sort_orders)):\n",
        "  summary=summary+sort_orders[i][0]"
      ],
      "execution_count": null,
      "outputs": []
    },
    {
      "cell_type": "code",
      "metadata": {
        "id": "TFz4B4EPB1ne",
        "colab": {
          "base_uri": "https://localhost:8080/",
          "height": 122
        },
        "outputId": "29b5bf2d-e7be-4267-c0eb-18f9362a5bc5"
      },
      "source": [
        "summary"
      ],
      "execution_count": null,
      "outputs": [
        {
          "output_type": "execute_result",
          "data": {
            "application/vnd.google.colaboratory.intrinsic+json": {
              "type": "string"
            },
            "text/plain": [
              "'Hello doctor i want to get a pregnant .i got period March 14th.From that day i have taken duphaston for 10 days 2 times which is given by doctor.she told me that after 10 days stop duphaston and wait for one week then if you r not get periods come and see me .from that day i stoped to take dupalaston.today i felt that i got periods.only one drop blood was there.i m always checking i got period i got period.doctor told me to come 14th.i got period March 14. my egg rupured on March 31th.sometimes this does happen that when u expect periods u see just drops esp.'"
            ]
          },
          "metadata": {
            "tags": []
          },
          "execution_count": 49
        }
      ]
    },
    {
      "cell_type": "code",
      "metadata": {
        "colab": {
          "base_uri": "https://localhost:8080/"
        },
        "id": "wHoW23TZBzxF",
        "outputId": "1cb47a38-1885-4758-e6d3-5f7a325eb7c0"
      },
      "source": [
        "len(text)"
      ],
      "execution_count": null,
      "outputs": [
        {
          "output_type": "execute_result",
          "data": {
            "text/plain": [
              "1198"
            ]
          },
          "metadata": {
            "tags": []
          },
          "execution_count": 33
        }
      ]
    },
    {
      "cell_type": "code",
      "metadata": {
        "id": "rvMA1iZqCAza"
      },
      "source": [],
      "execution_count": null,
      "outputs": []
    },
    {
      "cell_type": "markdown",
      "metadata": {
        "id": "GGFtrfinEVNW"
      },
      "source": [
        "##SPACY"
      ]
    },
    {
      "cell_type": "code",
      "metadata": {
        "colab": {
          "base_uri": "https://localhost:8080/"
        },
        "id": "dqSW9fL4ET3_",
        "outputId": "f8edddba-0212-453d-e6ed-c54180f0b6a3"
      },
      "source": [
        "!pip install spacy"
      ],
      "execution_count": null,
      "outputs": [
        {
          "output_type": "stream",
          "name": "stdout",
          "text": [
            "Requirement already satisfied: spacy in /usr/local/lib/python3.7/dist-packages (2.2.4)\n",
            "Requirement already satisfied: murmurhash<1.1.0,>=0.28.0 in /usr/local/lib/python3.7/dist-packages (from spacy) (1.0.6)\n",
            "Requirement already satisfied: plac<1.2.0,>=0.9.6 in /usr/local/lib/python3.7/dist-packages (from spacy) (1.1.3)\n",
            "Requirement already satisfied: preshed<3.1.0,>=3.0.2 in /usr/local/lib/python3.7/dist-packages (from spacy) (3.0.6)\n",
            "Requirement already satisfied: thinc==7.4.0 in /usr/local/lib/python3.7/dist-packages (from spacy) (7.4.0)\n",
            "Requirement already satisfied: wasabi<1.1.0,>=0.4.0 in /usr/local/lib/python3.7/dist-packages (from spacy) (0.8.2)\n",
            "Requirement already satisfied: catalogue<1.1.0,>=0.0.7 in /usr/local/lib/python3.7/dist-packages (from spacy) (1.0.0)\n",
            "Requirement already satisfied: blis<0.5.0,>=0.4.0 in /usr/local/lib/python3.7/dist-packages (from spacy) (0.4.1)\n",
            "Requirement already satisfied: numpy>=1.15.0 in /usr/local/lib/python3.7/dist-packages (from spacy) (1.19.5)\n",
            "Requirement already satisfied: tqdm<5.0.0,>=4.38.0 in /usr/local/lib/python3.7/dist-packages (from spacy) (4.62.3)\n",
            "Requirement already satisfied: cymem<2.1.0,>=2.0.2 in /usr/local/lib/python3.7/dist-packages (from spacy) (2.0.6)\n",
            "Requirement already satisfied: setuptools in /usr/local/lib/python3.7/dist-packages (from spacy) (57.4.0)\n",
            "Requirement already satisfied: requests<3.0.0,>=2.13.0 in /usr/local/lib/python3.7/dist-packages (from spacy) (2.23.0)\n",
            "Requirement already satisfied: srsly<1.1.0,>=1.0.2 in /usr/local/lib/python3.7/dist-packages (from spacy) (1.0.5)\n",
            "Requirement already satisfied: importlib-metadata>=0.20 in /usr/local/lib/python3.7/dist-packages (from catalogue<1.1.0,>=0.0.7->spacy) (4.8.2)\n",
            "Requirement already satisfied: zipp>=0.5 in /usr/local/lib/python3.7/dist-packages (from importlib-metadata>=0.20->catalogue<1.1.0,>=0.0.7->spacy) (3.6.0)\n",
            "Requirement already satisfied: typing-extensions>=3.6.4 in /usr/local/lib/python3.7/dist-packages (from importlib-metadata>=0.20->catalogue<1.1.0,>=0.0.7->spacy) (3.10.0.2)\n",
            "Requirement already satisfied: certifi>=2017.4.17 in /usr/local/lib/python3.7/dist-packages (from requests<3.0.0,>=2.13.0->spacy) (2021.10.8)\n",
            "Requirement already satisfied: urllib3!=1.25.0,!=1.25.1,<1.26,>=1.21.1 in /usr/local/lib/python3.7/dist-packages (from requests<3.0.0,>=2.13.0->spacy) (1.24.3)\n",
            "Requirement already satisfied: idna<3,>=2.5 in /usr/local/lib/python3.7/dist-packages (from requests<3.0.0,>=2.13.0->spacy) (2.10)\n",
            "Requirement already satisfied: chardet<4,>=3.0.2 in /usr/local/lib/python3.7/dist-packages (from requests<3.0.0,>=2.13.0->spacy) (3.0.4)\n"
          ]
        }
      ]
    },
    {
      "cell_type": "code",
      "metadata": {
        "colab": {
          "base_uri": "https://localhost:8080/"
        },
        "id": "J7Xmk-KiEapv",
        "outputId": "d71f58d5-15dd-4608-c7f9-68dcf08c15f5"
      },
      "source": [
        "!python -m spacy download en_core_web_sm"
      ],
      "execution_count": null,
      "outputs": [
        {
          "output_type": "stream",
          "name": "stdout",
          "text": [
            "Collecting en_core_web_sm==2.2.5\n",
            "  Downloading https://github.com/explosion/spacy-models/releases/download/en_core_web_sm-2.2.5/en_core_web_sm-2.2.5.tar.gz (12.0 MB)\n",
            "\u001b[K     |████████████████████████████████| 12.0 MB 6.9 MB/s \n",
            "\u001b[?25hRequirement already satisfied: spacy>=2.2.2 in /usr/local/lib/python3.7/dist-packages (from en_core_web_sm==2.2.5) (2.2.4)\n",
            "Requirement already satisfied: tqdm<5.0.0,>=4.38.0 in /usr/local/lib/python3.7/dist-packages (from spacy>=2.2.2->en_core_web_sm==2.2.5) (4.62.3)\n",
            "Requirement already satisfied: blis<0.5.0,>=0.4.0 in /usr/local/lib/python3.7/dist-packages (from spacy>=2.2.2->en_core_web_sm==2.2.5) (0.4.1)\n",
            "Requirement already satisfied: requests<3.0.0,>=2.13.0 in /usr/local/lib/python3.7/dist-packages (from spacy>=2.2.2->en_core_web_sm==2.2.5) (2.23.0)\n",
            "Requirement already satisfied: thinc==7.4.0 in /usr/local/lib/python3.7/dist-packages (from spacy>=2.2.2->en_core_web_sm==2.2.5) (7.4.0)\n",
            "Requirement already satisfied: setuptools in /usr/local/lib/python3.7/dist-packages (from spacy>=2.2.2->en_core_web_sm==2.2.5) (57.4.0)\n",
            "Requirement already satisfied: numpy>=1.15.0 in /usr/local/lib/python3.7/dist-packages (from spacy>=2.2.2->en_core_web_sm==2.2.5) (1.19.5)\n",
            "Requirement already satisfied: preshed<3.1.0,>=3.0.2 in /usr/local/lib/python3.7/dist-packages (from spacy>=2.2.2->en_core_web_sm==2.2.5) (3.0.6)\n",
            "Requirement already satisfied: wasabi<1.1.0,>=0.4.0 in /usr/local/lib/python3.7/dist-packages (from spacy>=2.2.2->en_core_web_sm==2.2.5) (0.8.2)\n",
            "Requirement already satisfied: srsly<1.1.0,>=1.0.2 in /usr/local/lib/python3.7/dist-packages (from spacy>=2.2.2->en_core_web_sm==2.2.5) (1.0.5)\n",
            "Requirement already satisfied: plac<1.2.0,>=0.9.6 in /usr/local/lib/python3.7/dist-packages (from spacy>=2.2.2->en_core_web_sm==2.2.5) (1.1.3)\n",
            "Requirement already satisfied: murmurhash<1.1.0,>=0.28.0 in /usr/local/lib/python3.7/dist-packages (from spacy>=2.2.2->en_core_web_sm==2.2.5) (1.0.6)\n",
            "Requirement already satisfied: catalogue<1.1.0,>=0.0.7 in /usr/local/lib/python3.7/dist-packages (from spacy>=2.2.2->en_core_web_sm==2.2.5) (1.0.0)\n",
            "Requirement already satisfied: cymem<2.1.0,>=2.0.2 in /usr/local/lib/python3.7/dist-packages (from spacy>=2.2.2->en_core_web_sm==2.2.5) (2.0.6)\n",
            "Requirement already satisfied: importlib-metadata>=0.20 in /usr/local/lib/python3.7/dist-packages (from catalogue<1.1.0,>=0.0.7->spacy>=2.2.2->en_core_web_sm==2.2.5) (4.8.2)\n",
            "Requirement already satisfied: typing-extensions>=3.6.4 in /usr/local/lib/python3.7/dist-packages (from importlib-metadata>=0.20->catalogue<1.1.0,>=0.0.7->spacy>=2.2.2->en_core_web_sm==2.2.5) (3.10.0.2)\n",
            "Requirement already satisfied: zipp>=0.5 in /usr/local/lib/python3.7/dist-packages (from importlib-metadata>=0.20->catalogue<1.1.0,>=0.0.7->spacy>=2.2.2->en_core_web_sm==2.2.5) (3.6.0)\n",
            "Requirement already satisfied: idna<3,>=2.5 in /usr/local/lib/python3.7/dist-packages (from requests<3.0.0,>=2.13.0->spacy>=2.2.2->en_core_web_sm==2.2.5) (2.10)\n",
            "Requirement already satisfied: chardet<4,>=3.0.2 in /usr/local/lib/python3.7/dist-packages (from requests<3.0.0,>=2.13.0->spacy>=2.2.2->en_core_web_sm==2.2.5) (3.0.4)\n",
            "Requirement already satisfied: urllib3!=1.25.0,!=1.25.1,<1.26,>=1.21.1 in /usr/local/lib/python3.7/dist-packages (from requests<3.0.0,>=2.13.0->spacy>=2.2.2->en_core_web_sm==2.2.5) (1.24.3)\n",
            "Requirement already satisfied: certifi>=2017.4.17 in /usr/local/lib/python3.7/dist-packages (from requests<3.0.0,>=2.13.0->spacy>=2.2.2->en_core_web_sm==2.2.5) (2021.10.8)\n",
            "\u001b[38;5;2m✔ Download and installation successful\u001b[0m\n",
            "You can now load the model via spacy.load('en_core_web_sm')\n"
          ]
        }
      ]
    },
    {
      "cell_type": "code",
      "metadata": {
        "id": "rSmMQAjrEhP6"
      },
      "source": [
        "import spacy\n",
        "from spacy.lang.en.stop_words import STOP_WORDS\n",
        "from string import punctuation"
      ],
      "execution_count": null,
      "outputs": []
    },
    {
      "cell_type": "code",
      "metadata": {
        "id": "_KCil_qdEnpU"
      },
      "source": [
        "stopwords=STOP_WORDS\n",
        "stopwords.add('u')\n",
        "stopwords.add('got')"
      ],
      "execution_count": null,
      "outputs": []
    },
    {
      "cell_type": "code",
      "metadata": {
        "id": "M2DIPu-xG_7c"
      },
      "source": [
        "more_stop=['hello','good','evening','morning','night','afternoon','r','c','b',\"can't\",'can','could','should','would','doctor','shall','will','maam',\"ma'am\",\"sir\",\"hi\",\"hey\",\"\"]\n",
        "for i in more_stop:\n",
        "  stopwords.add(i)"
      ],
      "execution_count": null,
      "outputs": []
    },
    {
      "cell_type": "code",
      "metadata": {
        "id": "8MdVk77x3h5g"
      },
      "source": [],
      "execution_count": null,
      "outputs": []
    },
    {
      "cell_type": "code",
      "metadata": {
        "id": "W8uvKvUtFcC7"
      },
      "source": [
        "nlp=spacy.load('en_core_web_sm')"
      ],
      "execution_count": null,
      "outputs": []
    },
    {
      "cell_type": "code",
      "metadata": {
        "id": "2PQBq89qFdex"
      },
      "source": [
        "doc=nlp(text)"
      ],
      "execution_count": null,
      "outputs": []
    },
    {
      "cell_type": "code",
      "metadata": {
        "id": "MsAQWv4AF011"
      },
      "source": [
        "tokens=[token.text for token in doc]"
      ],
      "execution_count": null,
      "outputs": []
    },
    {
      "cell_type": "code",
      "metadata": {
        "colab": {
          "base_uri": "https://localhost:8080/"
        },
        "id": "PWwJZ9Tlwx_t",
        "outputId": "6b563622-0f46-4ebb-8cb1-0a4782eb24d8"
      },
      "source": [
        "tokens"
      ],
      "execution_count": null,
      "outputs": [
        {
          "output_type": "execute_result",
          "data": {
            "text/plain": [
              "['Good',\n",
              " 'evening',\n",
              " 'doctor',\n",
              " '.',\n",
              " 'Good',\n",
              " 'evening',\n",
              " '.',\n",
              " 'You',\n",
              " 'look',\n",
              " 'pale',\n",
              " 'and',\n",
              " 'your',\n",
              " 'voice',\n",
              " 'is',\n",
              " 'out',\n",
              " 'of',\n",
              " 'tune',\n",
              " '.',\n",
              " 'Yes',\n",
              " 'doctor',\n",
              " '.',\n",
              " 'I',\n",
              " '’m',\n",
              " 'running',\n",
              " 'a',\n",
              " 'temperature',\n",
              " 'and',\n",
              " 'have',\n",
              " 'a',\n",
              " 'sore',\n",
              " 'throat',\n",
              " '.',\n",
              " 'Let',\n",
              " 'me',\n",
              " 'see',\n",
              " '.',\n",
              " 'You’ve',\n",
              " 'moderate',\n",
              " 'fever',\n",
              " '.',\n",
              " 'This',\n",
              " 'thermometer',\n",
              " 'is',\n",
              " 'very',\n",
              " 'different',\n",
              " 'from',\n",
              " 'the',\n",
              " 'one',\n",
              " 'you',\n",
              " 'used',\n",
              " 'the',\n",
              " 'last',\n",
              " 'time',\n",
              " '.',\n",
              " '(',\n",
              " 'Unlike',\n",
              " 'the',\n",
              " 'earlier',\n",
              " 'one',\n",
              " 'which',\n",
              " 'was',\n",
              " 'placed',\n",
              " 'below',\n",
              " 'the',\n",
              " 'tongue',\n",
              " ',',\n",
              " 'this',\n",
              " 'one',\n",
              " 'snapped',\n",
              " 'around',\n",
              " 'one',\n",
              " 'of',\n",
              " 'the',\n",
              " 'fingers',\n",
              " '.',\n",
              " 'Yes',\n",
              " ',',\n",
              " 'this',\n",
              " 'is',\n",
              " 'a',\n",
              " 'new',\n",
              " 'introduction',\n",
              " 'by',\n",
              " 'medical',\n",
              " 'equipment',\n",
              " 'companies',\n",
              " '.',\n",
              " 'It',\n",
              " '’s',\n",
              " 'much',\n",
              " 'more',\n",
              " 'convenient',\n",
              " ',',\n",
              " 'as',\n",
              " 'it',\n",
              " 'does',\n",
              " 'n’t',\n",
              " 'require',\n",
              " 'cleaning',\n",
              " 'after',\n",
              " 'every',\n",
              " 'use',\n",
              " '.',\n",
              " 'That',\n",
              " '’s',\n",
              " 'awesome',\n",
              " '.',\n",
              " 'Yes',\n",
              " 'it',\n",
              " 'is',\n",
              " '.',\n",
              " 'Not',\n",
              " 'too',\n",
              " 'high',\n",
              " '–',\n",
              " '99.8.Your',\n",
              " 'blood',\n",
              " 'pressure',\n",
              " 'is',\n",
              " 'fine',\n",
              " '.',\n",
              " 'It',\n",
              " 'looks',\n",
              " 'bit',\n",
              " 'scruffy',\n",
              " '.',\n",
              " 'Not',\n",
              " 'good',\n",
              " '.',\n",
              " 'Yes',\n",
              " ',',\n",
              " 'it',\n",
              " 'has',\n",
              " 'been',\n",
              " 'quite',\n",
              " 'bad',\n",
              " '.',\n",
              " 'Do',\n",
              " 'you',\n",
              " 'get',\n",
              " 'sweating',\n",
              " 'and',\n",
              " 'shivering?Not',\n",
              " 'sweating',\n",
              " ',',\n",
              " 'but',\n",
              " 'I',\n",
              " 'feel',\n",
              " 'somewhat',\n",
              " 'cold',\n",
              " 'when',\n",
              " 'I',\n",
              " 'sit',\n",
              " 'under',\n",
              " 'a',\n",
              " 'fan',\n",
              " '.',\n",
              " 'OK',\n",
              " '.',\n",
              " 'You',\n",
              " '’ve',\n",
              " 'few',\n",
              " 'symptoms',\n",
              " 'of',\n",
              " 'malaria',\n",
              " '.',\n",
              " 'I',\n",
              " 'would',\n",
              " 'suggest',\n",
              " 'you',\n",
              " 'undergo',\n",
              " 'blood',\n",
              " 'test',\n",
              " '.',\n",
              " 'Nothing',\n",
              " 'to',\n",
              " 'worry',\n",
              " 'about',\n",
              " '.',\n",
              " 'In',\n",
              " 'most',\n",
              " 'cases',\n",
              " ',',\n",
              " 'the',\n",
              " 'test',\n",
              " 'come',\n",
              " 'out',\n",
              " 'to',\n",
              " 'be',\n",
              " 'negative',\n",
              " '.',\n",
              " 'It',\n",
              " '’s',\n",
              " 'just',\n",
              " 'precautionary',\n",
              " ',',\n",
              " 'as',\n",
              " 'there',\n",
              " 'have',\n",
              " 'been',\n",
              " 'spurt',\n",
              " 'in',\n",
              " 'malaria',\n",
              " 'cases',\n",
              " 'in',\n",
              " 'the',\n",
              " 'last',\n",
              " 'month',\n",
              " 'or',\n",
              " 'so',\n",
              " '.',\n",
              " 'I’m',\n",
              " 'prescribing',\n",
              " 'three',\n",
              " 'medicines',\n",
              " 'and',\n",
              " 'a',\n",
              " 'syrup',\n",
              " '.',\n",
              " 'The',\n",
              " 'number',\n",
              " 'of',\n",
              " 'dots',\n",
              " 'in',\n",
              " 'front',\n",
              " 'of',\n",
              " 'each',\n",
              " 'tells',\n",
              " 'you',\n",
              " 'how',\n",
              " 'many',\n",
              " 'times',\n",
              " 'in',\n",
              " 'the',\n",
              " 'day',\n",
              " 'you',\n",
              " '’ve',\n",
              " 'to',\n",
              " 'take',\n",
              " 'them',\n",
              " '.',\n",
              " 'For',\n",
              " 'example',\n",
              " ',',\n",
              " 'the',\n",
              " 'two',\n",
              " 'dots',\n",
              " 'here',\n",
              " 'mean',\n",
              " 'you',\n",
              " '’ve',\n",
              " 'to',\n",
              " 'take',\n",
              " 'the',\n",
              " 'medicine',\n",
              " 'twice',\n",
              " 'in',\n",
              " 'the',\n",
              " 'day',\n",
              " ',',\n",
              " 'once',\n",
              " 'in',\n",
              " 'the',\n",
              " 'morning',\n",
              " 'and',\n",
              " 'once',\n",
              " 'after',\n",
              " 'dinner',\n",
              " '.',\n",
              " 'Do',\n",
              " 'you',\n",
              " '’ve',\n",
              " 'any',\n",
              " 'other',\n",
              " 'questions',\n",
              " '?',\n",
              " 'No',\n",
              " ',',\n",
              " 'doctor',\n",
              " '.',\n",
              " 'Thank',\n",
              " 'you',\n",
              " '..',\n",
              " '\\n']"
            ]
          },
          "metadata": {},
          "execution_count": 12
        }
      ]
    },
    {
      "cell_type": "code",
      "metadata": {
        "id": "vEGDlWNKF-vE"
      },
      "source": [
        "\n",
        "punctuation=punctuation+'\\n'"
      ],
      "execution_count": null,
      "outputs": []
    },
    {
      "cell_type": "code",
      "metadata": {
        "id": "boPmILKmGGQI"
      },
      "source": [
        "word_freq={}\n",
        "for word in doc:\n",
        "  if word.text.lower() not in stopwords:\n",
        "    if word.text.lower() not in punctuation:\n",
        "      if word.text not in word_freq.keys():\n",
        "        word_freq[word.text]=1\n",
        "      else:\n",
        "        word_freq[word.text]+=1"
      ],
      "execution_count": null,
      "outputs": []
    },
    {
      "cell_type": "code",
      "metadata": {
        "colab": {
          "base_uri": "https://localhost:8080/"
        },
        "id": "qtjit2tWGg71",
        "outputId": "434982fb-406c-448a-8087-a5a96d51ee1f"
      },
      "source": [
        "\n",
        "word_freq"
      ],
      "execution_count": null,
      "outputs": [
        {
          "output_type": "execute_result",
          "data": {
            "text/plain": [
              "{'..': 1,\n",
              " '99.8.Your': 1,\n",
              " 'I’m': 1,\n",
              " 'Let': 1,\n",
              " 'OK': 1,\n",
              " 'Thank': 1,\n",
              " 'Unlike': 1,\n",
              " 'Yes': 4,\n",
              " 'You’ve': 1,\n",
              " 'awesome': 1,\n",
              " 'bad': 1,\n",
              " 'bit': 1,\n",
              " 'blood': 2,\n",
              " 'cases': 2,\n",
              " 'cleaning': 1,\n",
              " 'cold': 1,\n",
              " 'come': 1,\n",
              " 'companies': 1,\n",
              " 'convenient': 1,\n",
              " 'day': 2,\n",
              " 'different': 1,\n",
              " 'dinner': 1,\n",
              " 'dots': 2,\n",
              " 'earlier': 1,\n",
              " 'equipment': 1,\n",
              " 'example': 1,\n",
              " 'fan': 1,\n",
              " 'feel': 1,\n",
              " 'fever': 1,\n",
              " 'fine': 1,\n",
              " 'fingers': 1,\n",
              " 'high': 1,\n",
              " 'introduction': 1,\n",
              " 'look': 1,\n",
              " 'looks': 1,\n",
              " 'malaria': 2,\n",
              " 'mean': 1,\n",
              " 'medical': 1,\n",
              " 'medicine': 1,\n",
              " 'medicines': 1,\n",
              " 'moderate': 1,\n",
              " 'month': 1,\n",
              " 'negative': 1,\n",
              " 'new': 1,\n",
              " 'number': 1,\n",
              " 'pale': 1,\n",
              " 'placed': 1,\n",
              " 'precautionary': 1,\n",
              " 'prescribing': 1,\n",
              " 'pressure': 1,\n",
              " 'questions': 1,\n",
              " 'require': 1,\n",
              " 'running': 1,\n",
              " 'scruffy': 1,\n",
              " 'shivering?Not': 1,\n",
              " 'sit': 1,\n",
              " 'snapped': 1,\n",
              " 'somewhat': 1,\n",
              " 'sore': 1,\n",
              " 'spurt': 1,\n",
              " 'suggest': 1,\n",
              " 'sweating': 2,\n",
              " 'symptoms': 1,\n",
              " 'syrup': 1,\n",
              " 'tells': 1,\n",
              " 'temperature': 1,\n",
              " 'test': 2,\n",
              " 'thermometer': 1,\n",
              " 'throat': 1,\n",
              " 'time': 1,\n",
              " 'times': 1,\n",
              " 'tongue': 1,\n",
              " 'tune': 1,\n",
              " 'twice': 1,\n",
              " 'undergo': 1,\n",
              " 'use': 1,\n",
              " 'voice': 1,\n",
              " 'worry': 1,\n",
              " '–': 1}"
            ]
          },
          "metadata": {},
          "execution_count": 15
        }
      ]
    },
    {
      "cell_type": "code",
      "metadata": {
        "id": "vz-fdTCaGjfS"
      },
      "source": [
        "max_freq=max(word_freq.values())"
      ],
      "execution_count": null,
      "outputs": []
    },
    {
      "cell_type": "code",
      "metadata": {
        "colab": {
          "base_uri": "https://localhost:8080/"
        },
        "id": "oYYJ1bnGHfI-",
        "outputId": "f164e115-2652-4a9c-d9a8-d38a9af522ba"
      },
      "source": [
        "max_freq"
      ],
      "execution_count": null,
      "outputs": [
        {
          "output_type": "execute_result",
          "data": {
            "text/plain": [
              "4"
            ]
          },
          "metadata": {},
          "execution_count": 17
        }
      ]
    },
    {
      "cell_type": "code",
      "metadata": {
        "id": "rLhtz76aHg5A"
      },
      "source": [
        "for word in word_freq.keys():\n",
        "  word_freq[word]=word_freq[word]/max_freq"
      ],
      "execution_count": null,
      "outputs": []
    },
    {
      "cell_type": "code",
      "metadata": {
        "id": "jyDG2So1HxEM"
      },
      "source": [
        "sent_token=[ sent for sent in doc.sents]"
      ],
      "execution_count": null,
      "outputs": []
    },
    {
      "cell_type": "code",
      "metadata": {
        "colab": {
          "base_uri": "https://localhost:8080/"
        },
        "id": "sVev6ztoH5ty",
        "outputId": "84cc8a17-41b3-4bb3-85f3-d86a61565d2c"
      },
      "source": [
        "sent_token"
      ],
      "execution_count": null,
      "outputs": [
        {
          "output_type": "execute_result",
          "data": {
            "text/plain": [
              "[Good evening doctor.,\n",
              " Good evening.,\n",
              " You look pale and your voice is out of tune.,\n",
              " Yes doctor.,\n",
              " I’m running a temperature and have a sore throat.,\n",
              " Let me see.,\n",
              " You’ve,\n",
              " moderate fever.,\n",
              " This thermometer is very different from the one you used the last time.,\n",
              " (Unlike the earlier one which was placed below the tongue, this one snapped around one of the fingers.,\n",
              " Yes, this is a new introduction by medical equipment companies.,\n",
              " It’s much more convenient, as it doesn’t require cleaning after every use.,\n",
              " That’s awesome.,\n",
              " Yes it is.,\n",
              " Not too high – 99.8.Your blood pressure is fine.,\n",
              " It looks bit scruffy.,\n",
              " Not good.,\n",
              " Yes, it has been quite bad.,\n",
              " Do you get sweating and shivering?Not sweating, but I feel somewhat cold when I sit under a fan.,\n",
              " OK.,\n",
              " You’ve few symptoms of malaria.,\n",
              " I would suggest you undergo blood test.,\n",
              " Nothing to worry about.,\n",
              " In most cases, the test come out to be negative.,\n",
              " It’s just precautionary, as there have been spurt in malaria cases in the last month or so.,\n",
              " I’m,\n",
              " prescribing three medicines and a syrup.,\n",
              " The number of dots in front of each tells you how many times in the day you’ve to take them.,\n",
              " For example, the two dots here mean you’ve to take the medicine twice in the day, once in the morning and once after dinner.,\n",
              " Do you’ve any other questions?,\n",
              " No, doctor.,\n",
              " Thank you..]"
            ]
          },
          "metadata": {},
          "execution_count": 20
        }
      ]
    },
    {
      "cell_type": "code",
      "metadata": {
        "colab": {
          "base_uri": "https://localhost:8080/",
          "height": 104
        },
        "id": "gWsSYMZ63spg",
        "outputId": "e8252a9e-46d9-41a7-df66-cd0118c2fdaa"
      },
      "source": [
        "text"
      ],
      "execution_count": null,
      "outputs": [
        {
          "output_type": "execute_result",
          "data": {
            "application/vnd.google.colaboratory.intrinsic+json": {
              "type": "string"
            },
            "text/plain": [
              "'Good evening doctor.Good evening. You look pale and your voice is out of tune.Yes doctor. I’m running a temperature and have a sore throat.Let me see.You’ve moderate fever.This thermometer is very different from the one you used the last time. (Unlike the earlier one which was placed below the tongue, this one snapped around one of the fingers.Yes, this is a new introduction by medical equipment companies. It’s much more convenient, as it doesn’t require cleaning after every use.That’s awesome.Yes it is.Not too high – 99.8.Your blood pressure is fine.It looks bit scruffy. Not good.Yes, it has been quite bad.Do you get sweating and shivering?Not sweating, but I feel somewhat cold when I sit under a fan.OK. You’ve few symptoms of malaria. I would suggest you undergo blood test. Nothing to worry about. In most cases, the test come out to be negative. It’s just precautionary, as there have been spurt in malaria cases in the last month or so.I’m prescribing three medicines and a syrup. The number of dots in front of each tells you how many times in the day you’ve to take them. For example, the two dots here mean you’ve to take the medicine twice in the day, once in the morning and once after dinner.Do you’ve any other questions? No, doctor. Thank you..\\n'"
            ]
          },
          "metadata": {},
          "execution_count": 21
        }
      ]
    },
    {
      "cell_type": "code",
      "metadata": {
        "id": "jfptbKyZ4kKb"
      },
      "source": [
        "sent_order={}\n",
        "count=1\n",
        "for i in sent_token:\n",
        "  sent_order[i]=count\n",
        "  count=count+1"
      ],
      "execution_count": null,
      "outputs": []
    },
    {
      "cell_type": "code",
      "metadata": {
        "colab": {
          "base_uri": "https://localhost:8080/"
        },
        "id": "lNQULDhD4nZI",
        "outputId": "94d58ad3-f21b-4a66-bc0a-3875fb7c1da1"
      },
      "source": [
        "sent_order"
      ],
      "execution_count": null,
      "outputs": [
        {
          "output_type": "execute_result",
          "data": {
            "text/plain": [
              "{Good evening doctor.: 1,\n",
              " Good evening.: 2,\n",
              " You look pale and your voice is out of tune.: 3,\n",
              " Yes doctor.: 4,\n",
              " I’m running a temperature and have a sore throat.: 5,\n",
              " Let me see.: 6,\n",
              " You’ve: 7,\n",
              " moderate fever.: 8,\n",
              " This thermometer is very different from the one you used the last time.: 9,\n",
              " (Unlike the earlier one which was placed below the tongue, this one snapped around one of the fingers.: 10,\n",
              " Yes, this is a new introduction by medical equipment companies.: 11,\n",
              " It’s much more convenient, as it doesn’t require cleaning after every use.: 12,\n",
              " That’s awesome.: 13,\n",
              " Yes it is.: 14,\n",
              " Not too high – 99.8.Your blood pressure is fine.: 15,\n",
              " It looks bit scruffy.: 16,\n",
              " Not good.: 17,\n",
              " Yes, it has been quite bad.: 18,\n",
              " Do you get sweating and shivering?Not sweating, but I feel somewhat cold when I sit under a fan.: 19,\n",
              " OK.: 20,\n",
              " You’ve few symptoms of malaria.: 21,\n",
              " I would suggest you undergo blood test.: 22,\n",
              " Nothing to worry about.: 23,\n",
              " In most cases, the test come out to be negative.: 24,\n",
              " It’s just precautionary, as there have been spurt in malaria cases in the last month or so.: 25,\n",
              " I’m: 26,\n",
              " prescribing three medicines and a syrup.: 27,\n",
              " The number of dots in front of each tells you how many times in the day you’ve to take them.: 28,\n",
              " For example, the two dots here mean you’ve to take the medicine twice in the day, once in the morning and once after dinner.: 29,\n",
              " Do you’ve any other questions?: 30,\n",
              " No, doctor.: 31,\n",
              " Thank you..: 32}"
            ]
          },
          "metadata": {},
          "execution_count": 23
        }
      ]
    },
    {
      "cell_type": "code",
      "metadata": {
        "id": "MsuQW22_H7Ef"
      },
      "source": [
        "sent_score={}\n",
        "for sent in sent_token:\n",
        "  for word in sent:\n",
        "    if word.text.lower() in word_freq.keys():\n",
        "      if sent not in sent_score.keys():\n",
        "        sent_score[sent]=word_freq[word.text.lower()]\n",
        "      else:\n",
        "         sent_score[sent]+=word_freq[word.text.lower()]"
      ],
      "execution_count": null,
      "outputs": []
    },
    {
      "cell_type": "code",
      "metadata": {
        "colab": {
          "base_uri": "https://localhost:8080/"
        },
        "id": "TJfcvecwIfIM",
        "outputId": "cc0bc9dc-8f62-4572-9d79-fb541d0bc618"
      },
      "source": [
        "sent_score"
      ],
      "execution_count": null,
      "outputs": [
        {
          "output_type": "execute_result",
          "data": {
            "text/plain": [
              "{You look pale and your voice is out of tune.: 1.0,\n",
              " I’m running a temperature and have a sore throat.: 1.0,\n",
              " moderate fever.: 0.5,\n",
              " This thermometer is very different from the one you used the last time.: 0.75,\n",
              " (Unlike the earlier one which was placed below the tongue, this one snapped around one of the fingers.: 1.25,\n",
              " Yes, this is a new introduction by medical equipment companies.: 1.25,\n",
              " It’s much more convenient, as it doesn’t require cleaning after every use.: 1.0,\n",
              " That’s awesome.: 0.25,\n",
              " Not too high – 99.8.Your blood pressure is fine.: 1.5,\n",
              " It looks bit scruffy.: 0.75,\n",
              " Yes, it has been quite bad.: 0.25,\n",
              " Do you get sweating and shivering?Not sweating, but I feel somewhat cold when I sit under a fan.: 2.25,\n",
              " You’ve few symptoms of malaria.: 0.75,\n",
              " I would suggest you undergo blood test.: 1.5,\n",
              " Nothing to worry about.: 0.25,\n",
              " In most cases, the test come out to be negative.: 1.5,\n",
              " It’s just precautionary, as there have been spurt in malaria cases in the last month or so.: 1.75,\n",
              " prescribing three medicines and a syrup.: 0.75,\n",
              " The number of dots in front of each tells you how many times in the day you’ve to take them.: 1.75,\n",
              " For example, the two dots here mean you’ve to take the medicine twice in the day, once in the morning and once after dinner.: 2.25,\n",
              " Do you’ve any other questions?: 0.25,\n",
              " Thank you..: 0.25}"
            ]
          },
          "metadata": {},
          "execution_count": 25
        }
      ]
    },
    {
      "cell_type": "code",
      "metadata": {
        "id": "pUqpFqcQ4-IG"
      },
      "source": [],
      "execution_count": null,
      "outputs": []
    },
    {
      "cell_type": "code",
      "metadata": {
        "id": "U8cnJk-eIg52"
      },
      "source": [
        "from heapq import nlargest"
      ],
      "execution_count": null,
      "outputs": []
    },
    {
      "cell_type": "code",
      "metadata": {
        "id": "0zxYBOZ1IphV"
      },
      "source": [
        "select_length=int(len(sent_token)*0.5)"
      ],
      "execution_count": null,
      "outputs": []
    },
    {
      "cell_type": "code",
      "metadata": {
        "colab": {
          "base_uri": "https://localhost:8080/"
        },
        "id": "SC7wyda1IxII",
        "outputId": "f32ede8b-1d2a-42cc-d18c-64501fddad38"
      },
      "source": [
        "select_length"
      ],
      "execution_count": null,
      "outputs": [
        {
          "output_type": "execute_result",
          "data": {
            "text/plain": [
              "16"
            ]
          },
          "metadata": {},
          "execution_count": 28
        }
      ]
    },
    {
      "cell_type": "code",
      "metadata": {
        "id": "76V7pUlTIyVz"
      },
      "source": [
        "summ=nlargest(select_length,sent_score,key=sent_score.get)"
      ],
      "execution_count": null,
      "outputs": []
    },
    {
      "cell_type": "code",
      "metadata": {
        "id": "ZI8wEGKdJAT_"
      },
      "source": [
        "# Extract top 10 sentences as the summary\n",
        "summary=\"\"\n",
        "final_sent_order={}\n",
        "for i in range(select_length):\n",
        "  final_sent_order[summ[i]]=sent_order[summ[i]]"
      ],
      "execution_count": null,
      "outputs": []
    },
    {
      "cell_type": "code",
      "metadata": {
        "id": "KW3Q82WtJBYD"
      },
      "source": [],
      "execution_count": null,
      "outputs": []
    },
    {
      "cell_type": "code",
      "metadata": {
        "id": "jGfr2kLm5Zo7"
      },
      "source": [
        "sort_orders = sorted(final_sent_order.items(), key=lambda x: x[1], reverse=False)"
      ],
      "execution_count": null,
      "outputs": []
    },
    {
      "cell_type": "code",
      "metadata": {
        "id": "LXN8P6FI5bY3",
        "colab": {
          "base_uri": "https://localhost:8080/"
        },
        "outputId": "3fc3aced-d7a7-4951-e0ba-58f5860360d0"
      },
      "source": [
        "sort_orders"
      ],
      "execution_count": null,
      "outputs": [
        {
          "output_type": "execute_result",
          "data": {
            "text/plain": [
              "[(You look pale and your voice is out of tune., 3),\n",
              " (I’m running a temperature and have a sore throat., 5),\n",
              " (This thermometer is very different from the one you used the last time., 9),\n",
              " ((Unlike the earlier one which was placed below the tongue, this one snapped around one of the fingers.,\n",
              "  10),\n",
              " (Yes, this is a new introduction by medical equipment companies., 11),\n",
              " (It’s much more convenient, as it doesn’t require cleaning after every use.,\n",
              "  12),\n",
              " (Not too high – 99.8.Your blood pressure is fine., 15),\n",
              " (It looks bit scruffy., 16),\n",
              " (Do you get sweating and shivering?Not sweating, but I feel somewhat cold when I sit under a fan.,\n",
              "  19),\n",
              " (You’ve few symptoms of malaria., 21),\n",
              " (I would suggest you undergo blood test., 22),\n",
              " (In most cases, the test come out to be negative., 24),\n",
              " (It’s just precautionary, as there have been spurt in malaria cases in the last month or so.,\n",
              "  25),\n",
              " (prescribing three medicines and a syrup., 27),\n",
              " (The number of dots in front of each tells you how many times in the day you’ve to take them.,\n",
              "  28),\n",
              " (For example, the two dots here mean you’ve to take the medicine twice in the day, once in the morning and once after dinner.,\n",
              "  29)]"
            ]
          },
          "metadata": {},
          "execution_count": 32
        }
      ]
    },
    {
      "cell_type": "code",
      "metadata": {
        "id": "YtI7hmvD5dEv"
      },
      "source": [
        "summary=\"\"\n",
        "for i in sort_orders:\n",
        "  summary=summary+str(i[0])+\" \"\n"
      ],
      "execution_count": null,
      "outputs": []
    },
    {
      "cell_type": "code",
      "metadata": {
        "colab": {
          "base_uri": "https://localhost:8080/",
          "height": 104
        },
        "id": "beNWplwLnHJ_",
        "outputId": "02e14a94-fa63-4cbc-9fe4-d93ab925ddc0"
      },
      "source": [
        "summary"
      ],
      "execution_count": null,
      "outputs": [
        {
          "output_type": "execute_result",
          "data": {
            "application/vnd.google.colaboratory.intrinsic+json": {
              "type": "string"
            },
            "text/plain": [
              "'You look pale and your voice is out of tune. I’m running a temperature and have a sore throat. This thermometer is very different from the one you used the last time. (Unlike the earlier one which was placed below the tongue, this one snapped around one of the fingers. Yes, this is a new introduction by medical equipment companies. It’s much more convenient, as it doesn’t require cleaning after every use. Not too high – 99.8.Your blood pressure is fine. It looks bit scruffy. Do you get sweating and shivering?Not sweating, but I feel somewhat cold when I sit under a fan. You’ve few symptoms of malaria. I would suggest you undergo blood test. In most cases, the test come out to be negative. It’s just precautionary, as there have been spurt in malaria cases in the last month or so. prescribing three medicines and a syrup. The number of dots in front of each tells you how many times in the day you’ve to take them. For example, the two dots here mean you’ve to take the medicine twice in the day, once in the morning and once after dinner. '"
            ]
          },
          "metadata": {},
          "execution_count": 34
        }
      ]
    },
    {
      "cell_type": "code",
      "metadata": {
        "id": "n1dKiDg2oIVe"
      },
      "source": [
        "sumdoc=nlp(summary)\n",
        "sumtok=[token.text for token in sumdoc]"
      ],
      "execution_count": null,
      "outputs": []
    },
    {
      "cell_type": "code",
      "metadata": {
        "colab": {
          "base_uri": "https://localhost:8080/"
        },
        "id": "GF4ZE0MSdCWF",
        "outputId": "bb55f0a7-9c89-454b-87d5-edf48525cf9e"
      },
      "source": [
        "len(sumtok)\n"
      ],
      "execution_count": null,
      "outputs": [
        {
          "output_type": "execute_result",
          "data": {
            "text/plain": [
              "224"
            ]
          },
          "metadata": {},
          "execution_count": 36
        }
      ]
    },
    {
      "cell_type": "code",
      "metadata": {
        "colab": {
          "base_uri": "https://localhost:8080/"
        },
        "id": "YcptwdkzdOf7",
        "outputId": "2bf51831-3bd7-4271-e19e-93f02b9b0d1d"
      },
      "source": [
        "len(tokens)"
      ],
      "execution_count": null,
      "outputs": [
        {
          "output_type": "execute_result",
          "data": {
            "text/plain": [
              "284"
            ]
          },
          "metadata": {},
          "execution_count": 37
        }
      ]
    },
    {
      "cell_type": "code",
      "metadata": {
        "id": "cJi08F_vddUr"
      },
      "source": [],
      "execution_count": null,
      "outputs": []
    }
  ]
}